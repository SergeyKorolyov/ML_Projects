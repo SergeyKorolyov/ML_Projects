{
 "cells": [
  {
   "cell_type": "markdown",
   "metadata": {},
   "source": [
    "# Function factorial with inner cache"
   ]
  },
  {
   "cell_type": "code",
   "execution_count": 1,
   "metadata": {},
   "outputs": [],
   "source": [
    "def factorial (num, dictionary = {}):\n",
    "    if dictionary.get(num) is None:\n",
    "        fact = 1\n",
    "        for i in range(1, num+1):\n",
    "            fact *= i\n",
    "        dictionary[num] = fact\n",
    "    return dictionary[num]"
   ]
  },
  {
   "cell_type": "markdown",
   "metadata": {},
   "source": [
    "# Singleton"
   ]
  },
  {
   "cell_type": "code",
   "execution_count": 5,
   "metadata": {},
   "outputs": [
    {
     "name": "stdout",
     "output_type": "stream",
     "text": [
      "<__main__.OnlyOne object at 0x000001C17797F908>\n",
      "<__main__.OnlyOne object at 0x000001C1779B6CF8>\n",
      "<__main__.OnlyOne object at 0x000001C17797FF60>\n",
      "<__main__.OnlyOne object at 0x000001C17797F908>\n",
      "<__main__.OnlyOne object at 0x000001C1779B6CF8>\n"
     ]
    }
   ],
   "source": [
    "class OnlyOne:\n",
    "    class __OnlyOne:\n",
    "        def __init__(self, arg):\n",
    "            self.val = arg\n",
    "        def __str__(self):\n",
    "            return repr(self) + self.val\n",
    "    instance = None\n",
    "    def __init__(self, arg):\n",
    "        if not OnlyOne.instance:\n",
    "            OnlyOne.instance = OnlyOne.__OnlyOne(arg)\n",
    "        else:\n",
    "            OnlyOne.instance.val = arg\n",
    "    def __getattr__(self, name):\n",
    "        return getattr(self.instance, name)\n",
    "\n",
    "x = OnlyOne('sausage')\n",
    "print(x)\n",
    "y = OnlyOne('eggs')\n",
    "print(y)\n",
    "z = OnlyOne('spam')\n",
    "print(z)\n",
    "print(x)\n",
    "print(y)"
   ]
  },
  {
   "cell_type": "code",
   "execution_count": null,
   "metadata": {},
   "outputs": [],
   "source": []
  }
 ],
 "metadata": {
  "kernelspec": {
   "display_name": "Python 3",
   "language": "python",
   "name": "python3"
  },
  "language_info": {
   "codemirror_mode": {
    "name": "ipython",
    "version": 3
   },
   "file_extension": ".py",
   "mimetype": "text/x-python",
   "name": "python",
   "nbconvert_exporter": "python",
   "pygments_lexer": "ipython3",
   "version": "3.6.4"
  }
 },
 "nbformat": 4,
 "nbformat_minor": 2
}
