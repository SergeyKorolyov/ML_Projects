{
 "cells": [
  {
   "cell_type": "markdown",
   "metadata": {},
   "source": [
    "## Assignment 6\n",
    "## Multilayer perceptron. Backpropagation.\n",
    "\n",
    "The goal of this task is to train a multilayer perceptron for classification using backpropagation.\n",
    "\n",
    "The model is defined in the following way.\n",
    "\n",
    "$z_1 = W_1x + b_1,$\n",
    "\n",
    "$h = \\tanh(z_1),$\n",
    "\n",
    "$z_2 = W_2h + b_2,$\n",
    "\n",
    "$y = \\mathrm{softmax}(z_2),$\n",
    "\n",
    "$L = -\\sum_{i} t\\log y.$\n",
    "\n",
    "Where $x$ is the input vector. The cross-entropy loss function is used, where $t$ are targets represented as one-hot vectors. And you also need to add $L_2$ regularization on $W_1$ and $W_2$.\n",
    "\n",
    "The task is to classify hand-written digits from MNIST dataset, there are 10 classes in total, each corresponds to a different digit. The task is to train the classifier using stochastic gradient descent (SGD). So, you need to compute gradients for each parameter of the model, i.e. $W_1$, $b_1$, $W_2$, $b_2$.\n",
    "\n",
    "The code below loads the dataset, there are 1797 samples in total. You need to split the dataset into two parts, 80 percent of the samples for the training set and the remaining 20 percent for the test set. Make sure that both contain all kinds of digits. Each of the samples in a greyscale image 8x8 which is represented as a 64-dimensional vector when given as an input to the neural network classifier. Use dimension 50 for the hidden layer $h$ in the beginning. You are welcome to play with this parameter after you finish the implementation to see how it affects the results.\n",
    "\n",
    "Plot the value of the loss function after each epoch and also plot the classification accuracy for the training and the test set on the same plot.\n",
    "\n",
    "**Bonus.** \n",
    "Besides cross-entropy loss, you are welcome to try multi-class hinge loss described on the following web-page and compare it to cross-entropy loss in terms of accuracy. Try to avoid using for loops in your implementation so that your code is fully vectorized.\n",
    "http://cs231n.github.io/linear-classify/\n"
   ]
  },
  {
   "cell_type": "code",
   "execution_count": 1,
   "metadata": {},
   "outputs": [
    {
     "name": "stderr",
     "output_type": "stream",
     "text": [
      "C:\\Users\\serge\\Anaconda3\\lib\\site-packages\\sklearn\\cross_validation.py:41: DeprecationWarning: This module was deprecated in version 0.18 in favor of the model_selection module into which all the refactored classes and functions are moved. Also note that the interface of the new CV iterators are different from that of this module. This module will be removed in 0.20.\n",
      "  \"This module will be removed in 0.20.\", DeprecationWarning)\n"
     ]
    },
    {
     "data": {
      "image/png": "[encoded data removed]",
      "text/plain": [
       "<matplotlib.figure.Figure at 0x17c804e67f0>"
      ]
     },
     "metadata": {},
     "output_type": "display_data"
    }
   ],
   "source": [
    "%matplotlib inline\n",
    "import matplotlib.pyplot as plt\n",
    "import numpy as np\n",
    "from sklearn.cross_validation import train_test_split\n",
    "from sklearn import datasets,svm, metrics\n",
    "\n",
    "digits = datasets.load_digits()\n",
    "\n",
    "images_and_labels = list(zip(digits.images, digits.target))\n",
    "for index, (image, label) in enumerate(images_and_labels[:8]):\n",
    "    plt.subplot(2, 4, index + 1)\n",
    "    plt.axis('off')\n",
    "    plt.imshow(image, cmap=plt.cm.gray, interpolation='bilinear')\n",
    "    plt.title('Digit %i' % label)\n",
    "\n",
    "n_samples = len(digits.images)\n",
    "data = digits.images.reshape((n_samples, -1))\n",
    "targets = []\n",
    "\n",
    "for i in digits.target:\n",
    "    t = np.array(10*[0.0])\n",
    "    t[i] = 1\n",
    "    targets.append(t.reshape(10,1))\n",
    "targets = np.array(targets)"
   ]
  },
  {
   "cell_type": "code",
   "execution_count": 28,
   "metadata": {},
   "outputs": [],
   "source": [
    "class Multilayer_perceptron(object):   \n",
    "    def __init__(self, learning_rate = 0.1, epoch = 5000, lam = 0.001):\n",
    "        self.w_1 = np.random.normal(-0.01, 0.01, (50, 64))\n",
    "        self.w_2 = np.random.normal(-0.01, 0.01, (10, 50))\n",
    "        self.b_1 = np.random.normal(-0.01, 0.01, (50, 1))\n",
    "        self.b_2 = np.random.normal(-0.01, 0.01, (10, 1))\n",
    "        self.learning_rate = np.array([learning_rate])\n",
    "        self.epoch = epoch\n",
    "        self.lam = lam\n",
    "        \n",
    "    def th(self, z):\n",
    "        return (np.exp(2*z) - 1)/(np.exp(2*z) + 1)\n",
    "    \n",
    "    def softmax(self, z):\n",
    "        e_z = np.exp(z - np.max(z))\n",
    "        return e_z / e_z.sum()\n",
    "    \n",
    "    def cross_enthrophy(self, target, y):\n",
    "        L = -sum(target*np.log(y))\n",
    "        return L\n",
    "    \n",
    "    def predict(self, x):\n",
    "        x_0 = x.reshape(64, 1)\n",
    "        z_1 = self.w_1@x_0 + self.b_1 + self.lam*self.__L_2__(self.w_1)\n",
    "        h = self.th(z_1)\n",
    "        z_2 = self.w_2@h + self.b_2 + self.lam*self.__L_2__(self.w_2)\n",
    "        y = self.softmax(z_2)\n",
    "        return y\n",
    "    \n",
    "    def __L_2__ (self, arr):\n",
    "        l_2 = 0\n",
    "        for i in range(len(arr)):\n",
    "            for a in arr[i]:\n",
    "                l_2 += a**2\n",
    "        return l_2\n",
    "\n",
    "    def score(self, data, targets):\n",
    "        true_predict = 0\n",
    "        for i in range(len(targets)):\n",
    "            y = self.predict(data[i])\n",
    "            if sum(abs(y - targets[i]))/2 <= 0.5 :\n",
    "                true_predict += 1\n",
    "        return true_predict/len(targets)\n",
    "    \n",
    "    def train(self, x, t):\n",
    "        L = []\n",
    "        current_epoch = 1\n",
    "        while self.epoch >= current_epoch:\n",
    "            y = 0\n",
    "            l_i = []\n",
    "            for i in range(len(t)):\n",
    "                x_0 = x[i].reshape(64, 1)\n",
    "                z_1 = self.w_1@x_0 + self.b_1 + self.lam*self.__L_2__(self.w_1)\n",
    "                h = self.th(z_1)\n",
    "                z_2 = self.w_2@h + self.b_2 + self.lam*self.__L_2__(self.w_2)\n",
    "                y = self.softmax(z_2)\n",
    "                x_i = x[i].reshape(1, 64)\n",
    "                l_i.append(self.cross_enthrophy(t[i], y))\n",
    "                d_w1 = ((y-t[i]).T@self.w_2).T*(1-h**2)@x_i + self.lam*2*self.w_1\n",
    "                d_w2 = (y-t[i])*h.T + self.lam*2*self.w_2\n",
    "                self.w_1 -= self.learning_rate*d_w1\n",
    "                self.w_2 -= self.learning_rate*d_w2\n",
    "            L.append([current_epoch, np.mean(l_i)])\n",
    "            current_epoch += 1\n",
    "        return L"
   ]
  },
  {
   "cell_type": "code",
   "execution_count": 36,
   "metadata": {
    "scrolled": true
   },
   "outputs": [],
   "source": [
    "epochs = 150\n",
    "learning_rate = 0.003\n",
    "lam = 0.002\n",
    "network = Multilayer_perceptron(learning_rate=learning_rate, epoch=epochs, lam = lam)\n",
    "X_train, X_test, y_train, y_test = train_test_split(data, targets, test_size = 0.2, random_state = 0)\n",
    "L = network.train(X_train, y_train)"
   ]
  },
  {
   "cell_type": "code",
   "execution_count": 37,
   "metadata": {},
   "outputs": [
    {
     "name": "stdout",
     "output_type": "stream",
     "text": [
      "0.9777777777777777\n"
     ]
    }
   ],
   "source": [
    "accuracy = network.score(X_test, y_test)\n",
    "print(accuracy)"
   ]
  },
  {
   "cell_type": "code",
   "execution_count": 38,
   "metadata": {},
   "outputs": [],
   "source": [
    "Loss = np.array(L).T"
   ]
  },
  {
   "cell_type": "code",
   "execution_count": 39,
   "metadata": {},
   "outputs": [
    {
     "data": {
      "image/png": "[encoded data removed]",
      "text/plain": [
       "<matplotlib.figure.Figure at 0x17c81b5ddd8>"
      ]
     },
     "metadata": {},
     "output_type": "display_data"
    }
   ],
   "source": [
    "plt.plot(Loss[0],Loss[1])\n",
    "plt.show()"
   ]
  }
 ],
 "metadata": {
  "kernelspec": {
   "display_name": "Python 3",
   "language": "python",
   "name": "python3"
  },
  "language_info": {
   "codemirror_mode": {
    "name": "ipython",
    "version": 3
   },
   "file_extension": ".py",
   "mimetype": "text/x-python",
   "name": "python",
   "nbconvert_exporter": "python",
   "pygments_lexer": "ipython3",
   "version": "3.6.4"
  }
 },
 "nbformat": 4,
 "nbformat_minor": 1
}
