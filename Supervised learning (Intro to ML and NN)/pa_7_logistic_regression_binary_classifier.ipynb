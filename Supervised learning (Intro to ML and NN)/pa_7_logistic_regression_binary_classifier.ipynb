{
 "cells": [
  {
   "cell_type": "markdown",
   "metadata": {},
   "source": [
    "# Logistic regression classifier\n",
    "\n",
    "The task is to train a binary classifier based on logistic regression model.\n",
    "\n",
    "So, we have class 1 and class 2 and the corresponding probabilities are given by $p_1$ and $p_2$:\n",
    "\n",
    "$p_1 = p(x;w) = \\sigma(w^T x)$\n",
    "\n",
    "$p_2=(1 - p)$, and $\\sigma(z)$ is the sigmoid logistic function,\n",
    "\n",
    "$\\sigma(z) = \\frac{1}{1+\\exp(-z)}$,\n",
    "\n",
    "$x$ is the input and $w$ is the vector of parameters. Here we assume that input vector $x$ includes the constant term 1 so that there is no bias term.\n",
    "\n",
    "The log likelihood for each of the training samples is given by:\n",
    "\\begin{equation*}\n",
    "L(x_i;w)=  y_i \\text{log } p(x_i;w) + (1-y_i) \\text{log } (1-p(x_i;w)),\n",
    "\\end{equation*}\n",
    "\n",
    "And log-likelohood for the training set of $N$ samples can be expressed as\n",
    "\n",
    "\\begin{equation*}\n",
    "L(w)= \\frac{1}{N} \\big( \\sum_{i=1}^N y_i(w^T x_i) - \\text{log}(1+e^{w^T x_i})  \\big).\n",
    "\\end{equation*}\n",
    "\n",
    "Given that\n",
    "\\begin{equation*}\n",
    "\\frac{\\partial L}{\\partial w} = X^T (y - p),\n",
    "\\end{equation*}\n",
    "\n",
    "where $p$ is a vector of values $p$ for each of the training samples.\n",
    "Fit the parameters of the model that by maximizing the log-likelihood of the loss function.\n",
    "\n",
    "Use digits images for classification and choose only digits \"4\" and \"9\" from the data set so that it is a binary classification. Do a train and test split. Plot the likelihood and the accuracy of the classifier on the train and test data.\n",
    "\n",
    "**Note**.\n",
    "\n",
    "Mind the numerical problems you will have when computing log of zero probabilities. Add a small positive constant, e.g. $10^{-8}$ in order to avoid that."
   ]
  },
  {
   "cell_type": "code",
   "execution_count": 2,
   "metadata": {},
   "outputs": [
    {
     "name": "stderr",
     "output_type": "stream",
     "text": [
      "C:\\Users\\serge\\Anaconda3\\lib\\site-packages\\sklearn\\cross_validation.py:41: DeprecationWarning: This module was deprecated in version 0.18 in favor of the model_selection module into which all the refactored classes and functions are moved. Also note that the interface of the new CV iterators are different from that of this module. This module will be removed in 0.20.\n",
      "  \"This module will be removed in 0.20.\", DeprecationWarning)\n"
     ]
    }
   ],
   "source": [
    "%matplotlib inline\n",
    "import numpy as np\n",
    "import matplotlib.pyplot as plt\n",
    "import time\n",
    "from numpy.linalg import norm\n",
    "from sklearn.cross_validation import train_test_split\n",
    "from sklearn.preprocessing  import  StandardScaler\n",
    "from sklearn.datasets import fetch_mldata\n",
    "from sklearn.utils  import  shuffle"
   ]
  },
  {
   "cell_type": "code",
   "execution_count": 3,
   "metadata": {},
   "outputs": [],
   "source": [
    "def score(data, targets, w):\n",
    "    true_predict = 0\n",
    "    for i in range(len(targets)):\n",
    "        y = sigmoid(w@data[i])\n",
    "        if abs(y - targets[i]) <= 0.5:\n",
    "            true_predict += 1\n",
    "    return true_predict/len(targets)"
   ]
  },
  {
   "cell_type": "code",
   "execution_count": 4,
   "metadata": {},
   "outputs": [],
   "source": [
    "def cost_function(beta, X, y, lam):\n",
    "    cost2 = lam*norm(beta, ord = 2) \n",
    "    h = sigmoid(beta@X.T)\n",
    "    cost1 = -sum(y*np.log(h + 10**-8) + (1-y)*np.log(1 - h + 10**-8))\n",
    "    return (cost1+cost2)/(X.shape[0])"
   ]
  },
  {
   "cell_type": "code",
   "execution_count": 5,
   "metadata": {},
   "outputs": [],
   "source": [
    "def sigmoid(x):\n",
    "    return 1/(1+np.exp(-x))"
   ]
  },
  {
   "cell_type": "code",
   "execution_count": 6,
   "metadata": {},
   "outputs": [],
   "source": [
    "def feature_scale(x):\n",
    "    scaler = StandardScaler()\n",
    "    scaler.fit(x[ :, 1:])\n",
    "    x_norm = scaler.transform (x[ :, 1:])\n",
    "    X_scaled = (np.concatenate((x[ :, :1].T, x_norm.T), axis=0)).T\n",
    "    return X_scaled"
   ]
  },
  {
   "cell_type": "code",
   "execution_count": 37,
   "metadata": {},
   "outputs": [],
   "source": [
    "def logistic_regression_GD(X, y, lam, alpha, max_cost_before_break=1000,  max_count=None):\n",
    "    beta = np.zeros(X.shape[1])\n",
    "    cnt = 0\n",
    "    costs = {}\n",
    "    while True:\n",
    "        h = sigmoid(beta@X.T)\n",
    "        beta -= alpha*(-y + h)@X  + lam*2*beta\n",
    "        costs[cnt] = cost_function(beta, X, y, lam)\n",
    "        if costs[cnt] > max_cost_before_break:\n",
    "            break\n",
    "        if cnt > max_count:\n",
    "            break\n",
    "        cnt += 1\n",
    "    return beta, costs"
   ]
  },
  {
   "cell_type": "markdown",
   "metadata": {},
   "source": [
    "# Подготовка данных"
   ]
  },
  {
   "cell_type": "code",
   "execution_count": 38,
   "metadata": {},
   "outputs": [],
   "source": [
    "lam = 0.001\n",
    "alpha = 0.1\n",
    "epoch = 80\n",
    "mnist = fetch_mldata('MNIST original')\n",
    "y = mnist.target\n",
    "X = mnist.data.astype('float64')\n",
    "data = []\n",
    "targets = []\n",
    "x0 = np.array(len(X)*[1])\n",
    "X = np.vstack((x0.T, np.array(X).T)).T\n",
    "X = feature_scale(X)\n",
    "X, y = shuffle(X, y)\n",
    "for i in range(len(y)):\n",
    "    if y[i] == 4:\n",
    "        targets.append(1)\n",
    "        data.append(X[i])\n",
    "    if y[i] == 9:\n",
    "        targets.append(0)\n",
    "        data.append(X[i])\n",
    "X_train, X_test, y_train, y_test = train_test_split(np.array(data), np.array(targets), test_size = 0.2, random_state = 7)"
   ]
  },
  {
   "cell_type": "code",
   "execution_count": 50,
   "metadata": {},
   "outputs": [
    {
     "name": "stderr",
     "output_type": "stream",
     "text": [
      "C:\\Users\\serge\\Anaconda3\\lib\\site-packages\\ipykernel_launcher.py:2: RuntimeWarning: overflow encountered in exp\n",
      "  \n"
     ]
    }
   ],
   "source": [
    "beta, costs = logistic_regression_GD(X_train, y_train, lam, alpha, 1000, epoch)"
   ]
  },
  {
   "cell_type": "markdown",
   "metadata": {},
   "source": [
    "# Точность"
   ]
  },
  {
   "cell_type": "code",
   "execution_count": 53,
   "metadata": {},
   "outputs": [
    {
     "name": "stderr",
     "output_type": "stream",
     "text": [
      "C:\\Users\\serge\\Anaconda3\\lib\\site-packages\\ipykernel_launcher.py:2: RuntimeWarning: overflow encountered in exp\n",
      "  \n"
     ]
    },
    {
     "data": {
      "text/plain": [
       "0.9720710917664128"
      ]
     },
     "execution_count": 53,
     "metadata": {},
     "output_type": "execute_result"
    }
   ],
   "source": [
    "score(X_test, y_test, beta)"
   ]
  },
  {
   "cell_type": "code",
   "execution_count": 54,
   "metadata": {
    "scrolled": true
   },
   "outputs": [
    {
     "data": {
      "text/plain": [
       "{0: 2.254563872604832,\n",
       " 1: 1.4990523651126653,\n",
       " 2: 1.06018654063013,\n",
       " 3: 0.8234731953524107,\n",
       " 4: 0.769675597928207,\n",
       " 5: 0.7337093384557217,\n",
       " 6: 0.6926328722126442,\n",
       " 7: 0.6555125918827464,\n",
       " 8: 0.6322570762818245,\n",
       " 9: 0.6060054892214832,\n",
       " 10: 0.5750792490442762,\n",
       " 11: 0.5788532536927469,\n",
       " 12: 0.5387439240921904,\n",
       " 13: 0.5499079173261406,\n",
       " 14: 0.5136242270057568,\n",
       " 15: 0.5399378718549135,\n",
       " 16: 0.5003707804617947,\n",
       " 17: 0.512432278146098,\n",
       " 18: 0.4999006980538692,\n",
       " 19: 0.5117852148380607,\n",
       " 20: 0.4948239914006457,\n",
       " 21: 0.5139494077770992,\n",
       " 22: 0.48873034347538996,\n",
       " 23: 0.5241576978772194,\n",
       " 24: 0.48520493909381895,\n",
       " 25: 0.5423348664036194,\n",
       " 26: 0.5154190368875775,\n",
       " 27: 0.6398129331959377,\n",
       " 28: 0.8043891071078941,\n",
       " 29: 1.893893937849402,\n",
       " 30: 3.9490551727710193,\n",
       " 31: 6.050553919692064,\n",
       " 32: 3.8934396627879932,\n",
       " 33: 1.7929023976282705,\n",
       " 34: 0.8397346326680648,\n",
       " 35: 0.8149137054742517,\n",
       " 36: 0.7761627869149912,\n",
       " 37: 0.7372848741689978,\n",
       " 38: 0.711734275671388,\n",
       " 39: 0.6768862197666791,\n",
       " 40: 0.6546615639450833,\n",
       " 41: 0.6415428254832032,\n",
       " 42: 0.6285080552074298,\n",
       " 43: 0.6056819745638669,\n",
       " 44: 0.5982176627333535,\n",
       " 45: 0.5828103165527246,\n",
       " 46: 0.5749359490932717,\n",
       " 47: 0.563790508045043,\n",
       " 48: 0.5543892920205348,\n",
       " 49: 0.5512061091135102,\n",
       " 50: 0.5397609097512742,\n",
       " 51: 0.523689333099485,\n",
       " 52: 0.5143801799514929,\n",
       " 53: 0.5095049335173817,\n",
       " 54: 0.4884077305931227,\n",
       " 55: 0.4829290428718259,\n",
       " 56: 0.4773597106787525,\n",
       " 57: 0.4752587675476456,\n",
       " 58: 0.470166972518112,\n",
       " 59: 0.4692538967498752,\n",
       " 60: 0.4693567440094317,\n",
       " 61: 0.46729240100321606,\n",
       " 62: 0.4747658800104483,\n",
       " 63: 0.46057038455742094,\n",
       " 64: 0.4719638633125231,\n",
       " 65: 0.4642075138413017,\n",
       " 66: 0.4702950615115838,\n",
       " 67: 0.45989725286731403,\n",
       " 68: 0.4653405334809634,\n",
       " 69: 0.46730598615998975,\n",
       " 70: 0.4697730303139262,\n",
       " 71: 0.4576831782843271,\n",
       " 72: 0.46605260642430774,\n",
       " 73: 0.4518577507445778,\n",
       " 74: 0.46383086329268,\n",
       " 75: 0.4493283424754909,\n",
       " 76: 0.4533314061192267,\n",
       " 77: 0.44471970843701264,\n",
       " 78: 0.44809184791672446,\n",
       " 79: 0.44533095481499296,\n",
       " 80: 0.4486504264799769,\n",
       " 81: 0.44653071445416803}"
      ]
     },
     "execution_count": 54,
     "metadata": {},
     "output_type": "execute_result"
    }
   ],
   "source": [
    "costs"
   ]
  },
  {
   "cell_type": "markdown",
   "metadata": {},
   "source": [
    "# разделение сгенерированных данных"
   ]
  },
  {
   "cell_type": "code",
   "execution_count": 3,
   "metadata": {},
   "outputs": [
    {
     "data": {
      "image/png": "[encoded data removed]",
      "text/plain": [
       "<matplotlib.figure.Figure at 0x1d236121588>"
      ]
     },
     "metadata": {},
     "output_type": "display_data"
    },
    {
     "ename": "NameError",
     "evalue": "name 'feature_scale' is not defined",
     "output_type": "error",
     "traceback": [
      "\u001b[1;31m---------------------------------------------------------------------------\u001b[0m",
      "\u001b[1;31mNameError\u001b[0m                                 Traceback (most recent call last)",
      "\u001b[1;32m<ipython-input-3-782d1a931c27>\u001b[0m in \u001b[0;36m<module>\u001b[1;34m()\u001b[0m\n\u001b[0;32m     11\u001b[0m \u001b[0mx0\u001b[0m \u001b[1;33m=\u001b[0m \u001b[0mnp\u001b[0m\u001b[1;33m.\u001b[0m\u001b[0marray\u001b[0m\u001b[1;33m(\u001b[0m\u001b[0mlen\u001b[0m\u001b[1;33m(\u001b[0m\u001b[0ma\u001b[0m\u001b[1;33m)\u001b[0m\u001b[1;33m*\u001b[0m\u001b[1;33m[\u001b[0m\u001b[1;36m1\u001b[0m\u001b[1;33m]\u001b[0m\u001b[1;33m)\u001b[0m\u001b[1;33m\u001b[0m\u001b[0m\n\u001b[0;32m     12\u001b[0m \u001b[0ma\u001b[0m \u001b[1;33m=\u001b[0m \u001b[0mnp\u001b[0m\u001b[1;33m.\u001b[0m\u001b[0mvstack\u001b[0m\u001b[1;33m(\u001b[0m\u001b[1;33m(\u001b[0m\u001b[0mx0\u001b[0m\u001b[1;33m.\u001b[0m\u001b[0mT\u001b[0m\u001b[1;33m,\u001b[0m \u001b[0mnp\u001b[0m\u001b[1;33m.\u001b[0m\u001b[0marray\u001b[0m\u001b[1;33m(\u001b[0m\u001b[0ma\u001b[0m\u001b[1;33m)\u001b[0m\u001b[1;33m.\u001b[0m\u001b[0mT\u001b[0m\u001b[1;33m)\u001b[0m\u001b[1;33m)\u001b[0m\u001b[1;33m.\u001b[0m\u001b[0mT\u001b[0m\u001b[1;33m\u001b[0m\u001b[0m\n\u001b[1;32m---> 13\u001b[1;33m \u001b[0ma\u001b[0m \u001b[1;33m=\u001b[0m \u001b[0mfeature_scale\u001b[0m\u001b[1;33m(\u001b[0m\u001b[0ma\u001b[0m\u001b[1;33m)\u001b[0m\u001b[1;33m\u001b[0m\u001b[0m\n\u001b[0m\u001b[0;32m     14\u001b[0m \u001b[0mb\u001b[0m \u001b[1;33m=\u001b[0m \u001b[1;33m[\u001b[0m\u001b[1;33m]\u001b[0m\u001b[1;33m\u001b[0m\u001b[0m\n\u001b[0;32m     15\u001b[0m \u001b[1;32mfor\u001b[0m \u001b[0mi\u001b[0m \u001b[1;32min\u001b[0m \u001b[0mrange\u001b[0m\u001b[1;33m(\u001b[0m\u001b[1;36m100\u001b[0m\u001b[1;33m)\u001b[0m\u001b[1;33m:\u001b[0m\u001b[1;33m\u001b[0m\u001b[0m\n",
      "\u001b[1;31mNameError\u001b[0m: name 'feature_scale' is not defined"
     ]
    }
   ],
   "source": [
    "#2\n",
    "cov = [[1, 0], [0, 1]]\n",
    "a = np.random.multivariate_normal((1,1), cov, 100)\n",
    "b = np.random.multivariate_normal((4,4), cov, 100)\n",
    "plt.show()\n",
    "a = np.append(a, b)\n",
    "a = a.reshape(200, 2)\n",
    "\n",
    "x0 = np.array(len(a)*[1])\n",
    "a = np.vstack((x0.T, np.array(a).T)).T\n",
    "a = feature_scale(a)\n",
    "b = []\n",
    "for i in range(100):\n",
    "    b.append(0)\n",
    "for i in range(100,200):\n",
    "    b.append(1)"
   ]
  },
  {
   "cell_type": "code",
   "execution_count": 58,
   "metadata": {},
   "outputs": [
    {
     "data": {
      "text/plain": [
       "0.975"
      ]
     },
     "execution_count": 58,
     "metadata": {},
     "output_type": "execute_result"
    }
   ],
   "source": [
    "\n",
    "X_1, X_2, y_1, y_2 = train_test_split(np.array(a), np.array(b), test_size = 0.2, random_state = 7)\n",
    "beta, costs = logistic_regression_GD(X_1, y_1, lam, alpha, 1000, 1000)\n",
    "score(X_2, y_2, beta)"
   ]
  },
  {
   "cell_type": "code",
   "execution_count": 65,
   "metadata": {},
   "outputs": [],
   "source": [
    "def Plot_2d_grapic (GD_theta, train_data, train_labels):\n",
    "    slope = -(GD_theta[0]/GD_theta[2])/(GD_theta[0]/GD_theta[1])\n",
    "    intercept = -GD_theta[0]/GD_theta[2]\n",
    "    xx = np.linspace(-4, 4)\n",
    "    yy = slope*xx + intercept\n",
    "    plt.plot(xx, yy)\n",
    "    if len(GD_theta) == 3:\n",
    "        z = [False, True, True]\n",
    "        Plot_train_data =  train_data.compress(z, axis=1)\n",
    "    else:\n",
    "        Plot_train_data =  train_data.compress\n",
    "    for i in range(len(train_data)):\n",
    "        plt.plot(Plot_train_data[i][0], Plot_train_data[i][1],'gx' if (train_labels[i] == 1.0) else 'bx')"
   ]
  },
  {
   "cell_type": "code",
   "execution_count": 66,
   "metadata": {},
   "outputs": [
    {
     "data": {
      "image/png": "[encoded data removed]",
      "text/plain": [
       "<matplotlib.figure.Figure at 0x1fe2ac67978>"
      ]
     },
     "metadata": {},
     "output_type": "display_data"
    }
   ],
   "source": [
    "Plot_2d_grapic (beta, a, b)"
   ]
  },
  {
   "cell_type": "code",
   "execution_count": null,
   "metadata": {},
   "outputs": [],
   "source": []
  }
 ],
 "metadata": {
  "kernelspec": {
   "display_name": "Python 3",
   "language": "python",
   "name": "python3"
  },
  "language_info": {
   "codemirror_mode": {
    "name": "ipython",
    "version": 3
   },
   "file_extension": ".py",
   "mimetype": "text/x-python",
   "name": "python",
   "nbconvert_exporter": "python",
   "pygments_lexer": "ipython3",
   "version": "3.6.4"
  }
 },
 "nbformat": 4,
 "nbformat_minor": 1
}
