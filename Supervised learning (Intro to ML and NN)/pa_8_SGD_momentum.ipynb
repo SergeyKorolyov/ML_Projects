{
 "cells": [
  {
   "cell_type": "markdown",
   "metadata": {},
   "source": [
    "# Mini-batch stochastic gradient descent and momentum\n",
    "\n",
    "Your task will be to implement SGD with and without momentum for a binary logistic regression classifier.\n",
    "\n",
    "As usual, the logistic regression model is defined as follows\n",
    "\n",
    "$p_1 = p(x;w) = \\sigma(w^T x),$\n",
    "\n",
    "$p_2=(1 - p).$\n",
    "\n",
    "The log likelihood for each of the training samples is given by:\n",
    "\\begin{equation*}\n",
    "L(x_i;w)=  y_i \\text{log } p(x_i;w) + (1-y_i) \\text{log } (1-p(x_i;w)),\n",
    "\\end{equation*}\n",
    "\n",
    "and the gradient for a set of training samples combined into a matrix $X$ can be expressed as:\n",
    "\n",
    "\\begin{equation*}\n",
    "\\frac{\\partial L}{\\partial w} = X^T (y - p).\n",
    "\\end{equation*}\n",
    "\n",
    "For a minibatch of the size $N$, the average gradient over the samples of the minibatch $X_{minibatch}$ is given by:\n",
    "\n",
    "\\begin{equation*}\n",
    "g = \\frac{1}{N} \\frac{\\partial L}{\\partial w} = \\frac{1}{N} \\text{ } X_{minibatch}^T (y - p),\n",
    "\\end{equation*}\n",
    "\n",
    "So, the SGD update for the negative log-likelihood is given by\n",
    "\n",
    "\\begin{equation*}\n",
    "w_{new} = w + g.\n",
    "\\end{equation*}\n",
    "\n",
    "So, your task is to implement the following two methods:\n",
    "\n",
    "1. Mini-batch SGD\n",
    "2. Mini-batch SGD with momentum.\n",
    "\n",
    "Use the same dataset with handwritten digits. Try to play with the batch sizes and learning rates to achieve the fastest convergence. Try different momentum values, e.g. 0.5, 0.6, ..., 0.9.\n",
    "\n",
    "You are expected to produce the plots for the training set loss value and accuracy similar to the examples below.\n",
    "So, you need to plot three curves (train set objective, train set accuracy, test set accuracy) for each of the methods.\n",
    "Report only the best result for each of the methods among with its parameters like batch size and learning rate.\n",
    "\n",
    "The the structure of the code might look as follows.\n",
    "\n",
    "**Bonus**\n",
    "\n",
    "Implement one of more of the more advanced methods that you like most. It could be Adagrad, RMSProp or ADAM."
   ]
  },
  {
   "cell_type": "code",
   "execution_count": 1,
   "metadata": {},
   "outputs": [
    {
     "name": "stderr",
     "output_type": "stream",
     "text": [
      "C:\\Users\\serge\\Anaconda3\\lib\\site-packages\\sklearn\\cross_validation.py:41: DeprecationWarning: This module was deprecated in version 0.18 in favor of the model_selection module into which all the refactored classes and functions are moved. Also note that the interface of the new CV iterators are different from that of this module. This module will be removed in 0.20.\n",
      "  \"This module will be removed in 0.20.\", DeprecationWarning)\n"
     ]
    }
   ],
   "source": [
    "%matplotlib inline\n",
    "import matplotlib.pyplot as plt\n",
    "import numpy as np\n",
    "from sklearn.cross_validation import train_test_split\n",
    "from sklearn.preprocessing  import  StandardScaler\n",
    "from sklearn.utils  import  shuffle\n",
    "from sklearn.datasets import fetch_mldata"
   ]
  },
  {
   "cell_type": "code",
   "execution_count": 2,
   "metadata": {},
   "outputs": [],
   "source": [
    "def cost_function(beta, X, y, lam):\n",
    "    cost2 = 0\n",
    "    for b_i in range(len(beta)):\n",
    "        cost2 += b_i**2\n",
    "    cost2 = lam*cost2\n",
    "    h = sigmoid(beta@X.T)\n",
    "    cost1 = -sum(y*np.log(h + 10**-8) + (1-y)*np.log(1 - h + 10**-8))# + lam*2*beta\n",
    "    return (cost1+cost2)/(len(X[0]))\n",
    "\n",
    "def sigmoid(x):\n",
    "    return 1/(1+np.exp(-x))\n",
    "\n",
    "def score(data, targets, w):\n",
    "    true_predict = 0\n",
    "    for i in range(len(targets)):\n",
    "        y = sigmoid(w@data[i])\n",
    "        if abs(y - targets[i]) <= 0.5:\n",
    "            true_predict += 1\n",
    "    return true_predict/len(targets)\n",
    "\n",
    "def feature_scale(x):\n",
    "    scaler = StandardScaler()\n",
    "    scaler.fit(x[ :, 1:])\n",
    "    x_norm = scaler.transform (x[ :, 1:])\n",
    "    X_scaled = (np.concatenate((x[ :, :1].T, x_norm.T), axis=0)).T\n",
    "    return X_scaled"
   ]
  },
  {
   "cell_type": "code",
   "execution_count": 3,
   "metadata": {},
   "outputs": [],
   "source": [
    "def iterate_minibatches(X, y, batchsize):\n",
    "    indices = np.arange(len(y))\n",
    "    np.random.shuffle(indices)\n",
    "    X_batches = []\n",
    "    y_batches = []\n",
    "    for start_idx in range(0, len(y) - batchsize + 1, batchsize):\n",
    "        batch_indices = indices[start_idx:start_idx + batchsize]\n",
    "        X_i = [X[i] for i in batch_indices]\n",
    "        y_i = [y[i] for i in batch_indices]\n",
    "        X_batches.append(np.array(X_i))\n",
    "        y_batches.append(np.array(y_i))\n",
    "    return X_batches, y_batches"
   ]
  },
  {
   "cell_type": "code",
   "execution_count": 4,
   "metadata": {},
   "outputs": [],
   "source": [
    "def logistic_regression_SGD(X, y, lam, alpha, n_batches,  max_cost_before_break=1000,  max_count = 1000):\n",
    "    beta = np.zeros(X.shape[1])\n",
    "    cnt = 0\n",
    "    costs = []\n",
    "    X_1, y_1 = iterate_minibatches(X, y, n_batches)\n",
    "    while True:\n",
    "        l_i = []\n",
    "        for i in range(len(y_1)):\n",
    "            h = sigmoid(beta@X_1[i].T)\n",
    "            beta -= alpha*(-y_1[i] + h)@X_1[i]/n_batches  + lam*2*beta\n",
    "            l_i.append(cost_function(beta, X_1[i], y_1[i], lam))\n",
    "        costs.append([cnt, np.mean(l_i)])\n",
    "        if cnt > max_count:\n",
    "            break\n",
    "        cnt += 1\n",
    "    return beta, costs"
   ]
  },
  {
   "cell_type": "code",
   "execution_count": 5,
   "metadata": {},
   "outputs": [],
   "source": [
    "def logistic_regression_SGD_with_momentum(X, y, lam, alpha, gamma, n_batches,  max_cost_before_break=1000,  max_count = 1000):\n",
    "    beta = np.zeros(X.shape[1])\n",
    "    cnt = 0\n",
    "    costs = []\n",
    "    X_1, y_1 = iterate_minibatches(X, y, n_batches)\n",
    "    velocity = 0\n",
    "    while True:\n",
    "        l_i = []\n",
    "        for i in range(len(y_1)):\n",
    "            h = sigmoid(beta@X_1[i].T)\n",
    "            velocity = gamma * velocity +  (-y_1[i] + h)@X_1[i]/n_batches  + lam*2*beta\n",
    "            beta -= alpha *velocity\n",
    "            l_i.append(cost_function(beta, X_1[i], y_1[i], lam))\n",
    "        costs.append([cnt, np.mean(l_i)])\n",
    "        if cnt > max_count:\n",
    "            break\n",
    "        cnt += 1\n",
    "    return beta, costs"
   ]
  },
  {
   "cell_type": "code",
   "execution_count": 33,
   "metadata": {},
   "outputs": [],
   "source": [
    "def logistic_regression_Adam(X, y, lam, alpha, y1, y2, n_batches,  max_cost_before_break=1000,  max_count = 1000):\n",
    "    beta = np.zeros(X.shape[1])\n",
    "    cnt = 0\n",
    "    eps = 0.00000001\n",
    "    costs = []\n",
    "    X_1, y_1 = iterate_minibatches(X, y, n_batches)\n",
    "    m = 0\n",
    "    g = 0\n",
    "    m_t = 0\n",
    "    g_t = 0\n",
    "    #  γ1,γ2,η,λ  \n",
    "    while True:\n",
    "        l_i = []\n",
    "        for i in range(1,len(y_1)):\n",
    "            h = sigmoid(beta@X_1[i].T)\n",
    "            grad = (-y_1[i] + h)@X_1[i]/n_batches + lam*2*beta\n",
    "            m = y1*m + (1-y1)*grad\n",
    "            g = y2*g + (1-y2)*grad**2\n",
    "            m_t = m/(1-y1**i)\n",
    "            g_t = g/(1-y2**i)\n",
    "            beta-= alpha*m_t/np.sqrt(g_t+eps)\n",
    "            l_i.append(cost_function(beta, X_1[i], y_1[i], lam))\n",
    "        costs.append([cnt, np.mean(l_i)])\n",
    "        if cnt > max_count:\n",
    "            break\n",
    "        cnt += 1\n",
    "    return beta, costs"
   ]
  },
  {
   "cell_type": "code",
   "execution_count": 7,
   "metadata": {},
   "outputs": [],
   "source": [
    "mnist = fetch_mldata('MNIST original')\n",
    "y = mnist.target\n",
    "X = mnist.data.astype('float64')\n",
    "data = []\n",
    "targets = []\n",
    "x0 = np.array(len(X)*[1])\n",
    "X = np.vstack((x0.T, np.array(X).T)).T\n",
    "X = feature_scale(X)\n",
    "X, y = shuffle(X, y)\n",
    "for i in range(len(y)):\n",
    "    if y[i] == 4:\n",
    "        targets.append(1)\n",
    "        data.append(X[i])\n",
    "    if y[i] == 9:\n",
    "        targets.append(0)\n",
    "        data.append(X[i])\n",
    "X_train, X_test, y_train, y_test = train_test_split(np.array(data), np.array(targets), test_size = 0.2, random_state = 7)"
   ]
  },
  {
   "cell_type": "code",
   "execution_count": 64,
   "metadata": {},
   "outputs": [],
   "source": [
    "lam = 0.000004\n",
    "alpha = 0.01\n",
    "epoch = 21\n",
    "n_batch = 4\n",
    "gamma = 0.7"
   ]
  },
  {
   "cell_type": "markdown",
   "metadata": {},
   "source": [
    "# Минимизация без моментума"
   ]
  },
  {
   "cell_type": "code",
   "execution_count": 65,
   "metadata": {},
   "outputs": [
    {
     "data": {
      "text/plain": [
       "0.970620239390642"
      ]
     },
     "execution_count": 65,
     "metadata": {},
     "output_type": "execute_result"
    }
   ],
   "source": [
    "beta, costs = logistic_regression_SGD(X_train, y_train, lam, alpha, n_batch, 1000, epoch)\n",
    "score(X_test, y_test, beta)"
   ]
  },
  {
   "cell_type": "markdown",
   "metadata": {},
   "source": [
    "# Минимизация с моментумом"
   ]
  },
  {
   "cell_type": "code",
   "execution_count": 66,
   "metadata": {},
   "outputs": [
    {
     "name": "stdout",
     "output_type": "stream",
     "text": [
      "gamma : 0.7 acc: 0.9626405513239028\n"
     ]
    }
   ],
   "source": [
    "#for i in range(5, 10):\n",
    "beta_1, costs_1 = logistic_regression_SGD_with_momentum(X_train, y_train, lam, alpha, gamma, n_batch,  1000, epoch)\n",
    "print('gamma :', gamma, 'acc:',score(X_test, y_test, beta_1))"
   ]
  },
  {
   "cell_type": "markdown",
   "metadata": {},
   "source": [
    "# Adam"
   ]
  },
  {
   "cell_type": "code",
   "execution_count": 67,
   "metadata": {},
   "outputs": [
    {
     "name": "stdout",
     "output_type": "stream",
     "text": [
      "gamma_1 : 0.92 gamma_2 : 0.999999999 acc: 0.9662676822633297\n"
     ]
    }
   ],
   "source": [
    "gamma_1 = 0.92\n",
    "gamma_2 = 0.999999999\n",
    "best_costs = []\n",
    "best_score = 0\n",
    "# for i in range(2,10):\n",
    "#     for j in range(2,10):\n",
    "#         beta_2, costs_2 = logistic_regression_Adam(X_train, y_train, lam, alpha, i/10, j/10, n_batch,  1000, epoch)\n",
    "#         if score(X_test, y_test, beta_2) > best_score:\n",
    "#             best_score = score(X_test, y_test, beta_2)\n",
    "#             best_costs = costs_2\n",
    "#             gamma_1 = i/10\n",
    "#             gamma_2 = j/10\n",
    "beta_2, costs_2 = logistic_regression_Adam(X_train, y_train, lam, alpha, gamma_1, gamma_2, n_batch,  1000, epoch)\n",
    "print('gamma_1 :', gamma_1,'gamma_2 :', gamma_2, 'acc:',score(X_test, y_test, beta_2))"
   ]
  },
  {
   "cell_type": "code",
   "execution_count": 69,
   "metadata": {},
   "outputs": [
    {
     "data": {
      "image/png": "[encoded data removed]",
      "text/plain": [
       "<matplotlib.figure.Figure at 0x21d313f7240>"
      ]
     },
     "metadata": {},
     "output_type": "display_data"
    }
   ],
   "source": [
    "from pylab import *\n",
    "costs_1 = np.array(costs_1)\n",
    "costs = np.array(costs)\n",
    "costs_2 = np.array(costs_2)\n",
    "plt.plot(costs[:,0],costs[:,1], label='SGD')\n",
    "plt.plot(costs_1[:,0],costs_1[:,1], label='Momentum')\n",
    "plt.plot(costs_2[:,0],costs_2[:,1], label='Adam')\n",
    "legend(('SGD','Momentum','Adam'))\n",
    "plt.show()"
   ]
  }
 ],
 "metadata": {
  "kernelspec": {
   "display_name": "Python 3",
   "language": "python",
   "name": "python3"
  },
  "language_info": {
   "codemirror_mode": {
    "name": "ipython",
    "version": 3
   },
   "file_extension": ".py",
   "mimetype": "text/x-python",
   "name": "python",
   "nbconvert_exporter": "python",
   "pygments_lexer": "ipython3",
   "version": "3.6.4"
  }
 },
 "nbformat": 4,
 "nbformat_minor": 1
}
